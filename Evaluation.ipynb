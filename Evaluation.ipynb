{
 "cells": [
  {
   "cell_type": "code",
   "execution_count": 0,
   "metadata": {
    "colab": {},
    "colab_type": "code",
    "id": "D3GqJXwv7R99"
   },
   "outputs": [],
   "source": [
    "%%capture\n",
    "!pip install ipywidgets\n",
    "!pip install higra\n",
    "\n",
    "import numpy as np\n",
    "%matplotlib inline\n",
    "import matplotlib.pyplot as plt\n",
    "import random as r\n",
    "\n",
    "import h5py\n",
    "\n",
    "import higra as hg\n",
    "from higra import HorizontalCutExplorer,HorizontalCutNodes, CptHierarchy\n",
    "\n",
    "import torch\n",
    "import torch.nn as nn\n",
    "import torch.nn.functional as F\n",
    "from torchsummary import summary\n",
    "import torch.optim as optim\n",
    "from torch.utils.data import Dataset, DataLoader\n",
    "import time\n",
    "\n",
    "device = torch.device(\"cuda\" if torch.cuda.is_available() else \"cpu\")"
   ]
  },
  {
   "cell_type": "code",
   "execution_count": 0,
   "metadata": {
    "colab": {},
    "colab_type": "code",
    "id": "5yY8BKLcdExU"
   },
   "outputs": [],
   "source": [
    "import sys\n",
    "from cremi import Volume\n",
    "from cremi.io import CremiFile\n",
    "from cremi.evaluation import NeuronIds, Clefts, SynapticPartners\n",
    "\n",
    "test = CremiFile(\"Results_unet_test.hdf\", 'r')\n",
    "truth = CremiFile('../CREMI datasets/test.hdf', \"r\")"
   ]
  },
  {
   "cell_type": "code",
   "execution_count": null,
   "metadata": {
    "colab": {
     "base_uri": "https://localhost:8080/",
     "height": 1000
    },
    "colab_type": "code",
    "executionInfo": {
     "elapsed": 6142,
     "status": "ok",
     "timestamp": 1588534444466,
     "user": {
      "displayName": "Quentin GARRIDO",
      "photoUrl": "https://lh3.googleusercontent.com/a-/AOh14Gist5k3nwdPiQpwXeZ4foo5SerbbdcBsKVqY0L6rw=s64",
      "userId": "17877379089998357290"
     },
     "user_tz": -120
    },
    "id": "YMcqoD6l-ptq",
    "outputId": "7a3281e6-93a4-4fca-87e0-2e1a3b7e06a9"
   },
   "outputs": [],
   "source": [
    "from IPython.display import clear_output\n",
    "from tqdm import tqdm\n",
    "\n",
    "truth_neurons = truth.read_neuron_ids()\n",
    "test_neurons = test.read_neuron_ids()\n",
    "voi_splits=[]\n",
    "voi_merges=[]\n",
    "rands=[]\n",
    "\n",
    "for i in tqdm(range(25),bar_format='{l_bar}{bar:100}{r_bar}{bar:-10b}'):\n",
    "    truth_ids = Volume(truth_neurons.data[i], resolution=(40.0, 4.0, 4.0))\n",
    "    test_ids = Volume(test_neurons.data[i], resolution=(40.0, 4.0, 4.0))\n",
    "    neuron_ids_evaluation = NeuronIds(truth_ids)\n",
    "    (voi_split, voi_merge) = neuron_ids_evaluation.voi(test_ids)\n",
    "    adapted_rand = neuron_ids_evaluation.adapted_rand(test_ids)\n",
    "    \n",
    "    voi_splits.append(voi_split)\n",
    "    voi_merges.append(voi_merge)\n",
    "    rands.append(adapted_rand)\n",
    "\n",
    "    print(\"Neuron IDs\")\n",
    "    print(\"==========\")\n",
    "    print(\"voi split   : \" + str(voi_split))\n",
    "    print(\"voi merge   : \" + str(voi_merge))\n",
    "    print(\"adapted RAND: \" + str(adapted_rand))\n",
    "\n",
    "voi_splits=np.array(voi_splits)\n",
    "voi_merges=np.array(voi_merges)\n",
    "rands=np.array(rands)"
   ]
  },
  {
   "cell_type": "markdown",
   "metadata": {
    "colab_type": "text",
    "id": "tFF6rI2duCWs"
   },
   "source": [
    "# Unet\n",
    "\n",
    "## Training set"
   ]
  },
  {
   "cell_type": "code",
   "execution_count": 5,
   "metadata": {
    "colab": {
     "base_uri": "https://localhost:8080/",
     "height": 104
    },
    "colab_type": "code",
    "executionInfo": {
     "elapsed": 697,
     "status": "ok",
     "timestamp": 1588534397465,
     "user": {
      "displayName": "Quentin GARRIDO",
      "photoUrl": "https://lh3.googleusercontent.com/a-/AOh14Gist5k3nwdPiQpwXeZ4foo5SerbbdcBsKVqY0L6rw=s64",
      "userId": "17877379089998357290"
     },
     "user_tz": -120
    },
    "id": "oVI3QNmfFyPO",
    "outputId": "6d439985-309f-4ebf-badc-240d215d1d20"
   },
   "outputs": [
    {
     "name": "stdout",
     "output_type": "stream",
     "text": [
      "voi split average over all slices : 0.5225835353295856\n",
      "voi merge average over all slices : 0.9198408526099119\n",
      "adapted RAND average over all slices : 0.42150119461479035\n",
      "RAND average over all slices : 0.5784988053852096\n",
      "Cremi SCORE :  0.7797330329401249\n"
     ]
    }
   ],
   "source": [
    "print(f'voi split average over all slices : {np.mean(voi_splits)}')\n",
    "print(f'voi merge average over all slices : {np.mean(voi_merges)}')\n",
    "print(f'adapted RAND average over all slices : {np.mean(rands)}')\n",
    "print(f'RAND average over all slices : {1-np.mean(rands)}')\n",
    "print(\"Cremi SCORE : \", np.sqrt((np.mean(voi_splits)+np.mean(voi_merges))*(np.mean(rands))))"
   ]
  },
  {
   "cell_type": "markdown",
   "metadata": {
    "colab_type": "text",
    "id": "Fzk8oGmJBxsu"
   },
   "source": [
    "# Test set"
   ]
  },
  {
   "cell_type": "code",
   "execution_count": 9,
   "metadata": {
    "colab": {
     "base_uri": "https://localhost:8080/",
     "height": 104
    },
    "colab_type": "code",
    "executionInfo": {
     "elapsed": 2108,
     "status": "ok",
     "timestamp": 1588534444470,
     "user": {
      "displayName": "Quentin GARRIDO",
      "photoUrl": "https://lh3.googleusercontent.com/a-/AOh14Gist5k3nwdPiQpwXeZ4foo5SerbbdcBsKVqY0L6rw=s64",
      "userId": "17877379089998357290"
     },
     "user_tz": -120
    },
    "id": "vB6nsFSZBw2u",
    "outputId": "15172257-1380-46ef-c9bc-de7694d8edcb"
   },
   "outputs": [
    {
     "name": "stdout",
     "output_type": "stream",
     "text": [
      "voi split average over all slices : 0.4740971930975708\n",
      "voi merge average over all slices : 1.069331336892046\n",
      "adapted RAND average over all slices : 0.4848381529418795\n",
      "RAND average over all slices : 0.5151618470581205\n",
      "Cremi SCORE :  0.8650508873343614\n"
     ]
    }
   ],
   "source": [
    "print(f'voi split average over all slices : {np.mean(voi_splits)}')\n",
    "print(f'voi merge average over all slices : {np.mean(voi_merges)}')\n",
    "print(f'adapted RAND average over all slices : {np.mean(rands)}')\n",
    "print(f'RAND average over all slices : {1-np.mean(rands)}')\n",
    "print(\"Cremi SCORE : \", np.sqrt((np.mean(voi_splits)+np.mean(voi_merges))*(np.mean(rands))))"
   ]
  },
  {
   "cell_type": "markdown",
   "metadata": {
    "colab_type": "text",
    "id": "9WatRBNXuDcu"
   },
   "source": [
    "# Unet mala"
   ]
  },
  {
   "cell_type": "markdown",
   "metadata": {
    "colab_type": "text",
    "id": "qtJ1GTR-nZr1"
   },
   "source": [
    "# Test set"
   ]
  },
  {
   "cell_type": "code",
   "execution_count": 0,
   "metadata": {
    "colab": {
     "base_uri": "https://localhost:8080/",
     "height": 104
    },
    "colab_type": "code",
    "executionInfo": {
     "elapsed": 871,
     "status": "ok",
     "timestamp": 1588522984551,
     "user": {
      "displayName": "Quentin GARRIDO",
      "photoUrl": "https://lh3.googleusercontent.com/a-/AOh14Gist5k3nwdPiQpwXeZ4foo5SerbbdcBsKVqY0L6rw=s64",
      "userId": "17877379089998357290"
     },
     "user_tz": -120
    },
    "id": "u0nAvPMMhq2R",
    "outputId": "c5c1239a-ae80-4a1c-fc18-ad16774029ec"
   },
   "outputs": [
    {
     "name": "stdout",
     "output_type": "stream",
     "text": [
      "voi split average over all slices : 0.5741574960954652\n",
      "voi merge average over all slices : 0.4996529610902582\n",
      "adapted RAND average over all slices : 0.20297344389166863\n",
      "RAND average over all slices : 0.7970265561083314\n",
      "Cremi SCORE :  0.46685651605378015\n"
     ]
    }
   ],
   "source": [
    "print(f'voi split average over all slices : {np.mean(voi_splits)}')\n",
    "print(f'voi merge average over all slices : {np.mean(voi_merges)}')\n",
    "print(f'adapted RAND average over all slices : {np.mean(rands)}')\n",
    "print(f'RAND average over all slices : {1-np.mean(rands)}')\n",
    "print(\"Cremi SCORE : \", np.sqrt((np.mean(voi_splits)+np.mean(voi_merges))*(np.mean(rands))))"
   ]
  },
  {
   "cell_type": "markdown",
   "metadata": {
    "colab_type": "text",
    "id": "3uxU6xT-nbwo"
   },
   "source": [
    "# Training set"
   ]
  },
  {
   "cell_type": "code",
   "execution_count": 0,
   "metadata": {
    "colab": {
     "base_uri": "https://localhost:8080/",
     "height": 104
    },
    "colab_type": "code",
    "executionInfo": {
     "elapsed": 836,
     "status": "ok",
     "timestamp": 1588523034626,
     "user": {
      "displayName": "Quentin GARRIDO",
      "photoUrl": "https://lh3.googleusercontent.com/a-/AOh14Gist5k3nwdPiQpwXeZ4foo5SerbbdcBsKVqY0L6rw=s64",
      "userId": "17877379089998357290"
     },
     "user_tz": -120
    },
    "id": "O78lUK6KaWCi",
    "outputId": "87158b51-b419-4445-d1fa-35ca7d615eb2"
   },
   "outputs": [
    {
     "name": "stdout",
     "output_type": "stream",
     "text": [
      "voi split average over all slices : 0.5482084341827173\n",
      "voi merge average over all slices : 0.46043918472229534\n",
      "adapted RAND average over all slices : 0.17255895899555646\n",
      "RAND average over all slices : 0.8274410410044435\n",
      "Cremi SCORE :  0.4171944188404199\n"
     ]
    }
   ],
   "source": [
    "print(f'voi split average over all slices : {np.mean(voi_splits)}')\n",
    "print(f'voi merge average over all slices : {np.mean(voi_merges)}')\n",
    "print(f'adapted RAND average over all slices : {np.mean(rands)}')\n",
    "print(f'RAND average over all slices : {1-np.mean(rands)}')\n",
    "print(\"Cremi SCORE : \", np.sqrt((np.mean(voi_splits)+np.mean(voi_merges))*(np.mean(rands))))"
   ]
  }
 ],
 "metadata": {
  "accelerator": "GPU",
  "colab": {
   "collapsed_sections": [],
   "machine_shape": "hm",
   "name": "evaluation.ipynb",
   "provenance": []
  },
  "kernelspec": {
   "display_name": "Python 3",
   "language": "python",
   "name": "python3"
  },
  "language_info": {
   "codemirror_mode": {
    "name": "ipython",
    "version": 3
   },
   "file_extension": ".py",
   "mimetype": "text/x-python",
   "name": "python",
   "nbconvert_exporter": "python",
   "pygments_lexer": "ipython3",
   "version": "3.7.3"
  }
 },
 "nbformat": 4,
 "nbformat_minor": 1
}
