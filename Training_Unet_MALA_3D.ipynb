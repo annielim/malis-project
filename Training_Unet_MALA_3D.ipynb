{
 "cells": [
  {
   "cell_type": "markdown",
   "metadata": {
    "colab_type": "text",
    "id": "OPLftKrCAwh8"
   },
   "source": [
    "# Maximin Affinity Learning of Image Segmentation (MALIS)\n",
    "\n",
    "In this notebook, we will implement the following paper:\n",
    "\n",
    "> [ *Large Scale Image Segmentation with Structured Loss Based Deep Learning for Connectome Reconstruction*, J. Funke et al., IEEE Transactions on Pattern Analysis and Machine Intelligence, vol. 41, pp. 1669–1680, July 2019.](https://ieeexplore.ieee.org/document/8364622)\n",
    "    \n",
    "We tried to be as faithful as possible to the method presented in the paper, especially regarding the loss function."
   ]
  },
  {
   "cell_type": "code",
   "execution_count": 1,
   "metadata": {
    "colab": {
     "base_uri": "https://localhost:8080/",
     "height": 364
    },
    "colab_type": "code",
    "id": "Vl6d9zPwmRnm",
    "outputId": "3f106113-649c-4379-c525-33129fc90a18"
   },
   "outputs": [
    {
     "name": "stdout",
     "output_type": "stream",
     "text": [
      "Tue Jul 14 15:16:05 2020       \n",
      "+-----------------------------------------------------------------------------+\n",
      "| NVIDIA-SMI 450.51.05    Driver Version: 418.67       CUDA Version: 10.1     |\n",
      "|-------------------------------+----------------------+----------------------+\n",
      "| GPU  Name        Persistence-M| Bus-Id        Disp.A | Volatile Uncorr. ECC |\n",
      "| Fan  Temp  Perf  Pwr:Usage/Cap|         Memory-Usage | GPU-Util  Compute M. |\n",
      "|                               |                      |               MIG M. |\n",
      "|===============================+======================+======================|\n",
      "|   0  Tesla T4            Off  | 00000000:00:04.0 Off |                    0 |\n",
      "| N/A   61C    P8    10W /  70W |      0MiB / 15079MiB |      0%      Default |\n",
      "|                               |                      |                 ERR! |\n",
      "+-------------------------------+----------------------+----------------------+\n",
      "                                                                               \n",
      "+-----------------------------------------------------------------------------+\n",
      "| Processes:                                                                  |\n",
      "|  GPU   GI   CI        PID   Type   Process name                  GPU Memory |\n",
      "|        ID   ID                                                   Usage      |\n",
      "|=============================================================================|\n",
      "|  No running processes found                                                 |\n",
      "+-----------------------------------------------------------------------------+\n"
     ]
    }
   ],
   "source": [
    "!nvidia-smi"
   ]
  },
  {
   "cell_type": "code",
   "execution_count": null,
   "metadata": {
    "colab": {},
    "colab_type": "code",
    "id": "gn-jnEyGDbM2"
   },
   "outputs": [],
   "source": [
    "%%capture\n",
    "!pip install higra\n",
    "\n",
    "#tools\n",
    "import numpy as np\n",
    "import matplotlib.pyplot as plt\n",
    "import h5py\n",
    "import skimage.measure\n",
    "import time\n",
    "from IPython.display import clear_output\n",
    "import higra as hg\n",
    "\n",
    "#torch\n",
    "from torchvision import transforms\n",
    "import torch\n",
    "import torch.nn as nn\n",
    "import torch.nn.functional as F\n",
    "from torchsummary import summary\n",
    "from torch.utils.data import Dataset, DataLoader\n",
    "\n",
    "device = torch.device(\"cuda\" if torch.cuda.is_available() else \"cpu\")\n",
    "\n",
    "from google.colab import drive\n",
    "drive.mount('/content/drive')\n",
    "%cd /content/drive/My\\ Drive/Projet_E4/3d\\ unet"
   ]
  },
  {
   "cell_type": "code",
   "execution_count": null,
   "metadata": {
    "colab": {},
    "colab_type": "code",
    "id": "neQIjMcCveSI"
   },
   "outputs": [],
   "source": [
    "from IPython.display import clear_output\n",
    "\n",
    "def print_state(net, input_im, Lp, Ln,tot,samples=50, slice_idx=50):\n",
    "  #plot preditctions\n",
    "  fig, (ax1,ax2,ax3,ax4) = plt.subplots(1,4,figsize=(22,7))\n",
    "  Ln_sampled = []\n",
    "  Lp_sampled = []\n",
    "  tot_sampled = []\n",
    "  xs = []\n",
    "  for i in range(len(Lp) // samples):\n",
    "      Ln_sampled.append(np.mean(Ln[i*samples:(i+1)*samples]))\n",
    "      Lp_sampled.append(np.mean(Lp[i*samples:(i+1)*samples]))\n",
    "      tot_sampled.append(np.mean(tot[i*samples:(i+1)*samples]))\n",
    "      xs.append(i*samples + samples/2)\n",
    "\n",
    "  lp, = ax1.plot(xs,Lp_sampled, label=\"Positive Loss\",color=\"g\")\n",
    "\n",
    "  ax1p = ax1.twinx()\n",
    "\n",
    "  ln, = ax1p.plot(xs,Ln_sampled, label=\"Negative Loss\") \n",
    "  #sol, = ax1p.plot(xs,tot_sampled, label=\"Sum of losses\") \n",
    "  #plt.legend(handles=[ln,lp,sol])\n",
    "  plt.legend(handles=[ln,lp])\n",
    "\n",
    "  plt.ylim(bottom=0)\n",
    "  plt.xlim(left=0)\n",
    "  plt.ylabel(\"Loss value\")\n",
    "  plt.xlabel(\"Iteration\")\n",
    "  plt.title(\"Losses\")\n",
    "  #plt.axvline(x=34200)\n",
    "  \n",
    "  \n",
    "  #Make preds\n",
    "  input_im = torch.stack([input_im])\n",
    "  input_im = torch.stack([input_im])\n",
    "  \n",
    "  input_im = input_im.to(device,dtype=torch.float)\n",
    "  pred = net(input_im).detach().cpu().numpy()\n",
    "\n",
    "  pred_x = pred[0][0][slice_idx]\n",
    "  pred_y = pred[0][1][slice_idx]\n",
    "  pred_z = pred[0][2][slice_idx]\n",
    "\n",
    "  #ax2.imshow(pred_x,cmap=\"gray\", vmin=0, vmax=1)\n",
    "  ax2.imshow(pred_x,cmap=\"gray\")\n",
    "  ax2.axis('off')\n",
    "  ax2.set_title(\"Predictions on the x axis\")\n",
    "\n",
    "  #ax3.imshow(pred_y,cmap=\"gray\", vmin=0, vmax=1)\n",
    "  ax3.imshow(pred_y,cmap=\"gray\")\n",
    "  ax3.axis('off')\n",
    "  ax3.set_title(\"Predictions on the y axis\")\n",
    "\n",
    "  #ax4.imshow(pred_z,cmap=\"gray\", vmin=0, vmax=1)\n",
    "  ax4.imshow(pred_z,cmap=\"gray\")\n",
    "  ax4.axis('off')\n",
    "  ax4.set_title(\"Predictions on the z axis\")\n",
    "  \n",
    "  fig.tight_layout()\n",
    "  clear_output(wait=True)\n",
    "  plt.show()\n",
    "  del input_im\n",
    "  del pred\n",
    "  del pred_x\n",
    "  del pred_y\n",
    "  del pred_z"
   ]
  },
  {
   "cell_type": "markdown",
   "metadata": {
    "colab_type": "text",
    "id": "GDu2nG7SCr9c"
   },
   "source": [
    "# U-net architecture"
   ]
  },
  {
   "cell_type": "code",
   "execution_count": null,
   "metadata": {
    "colab": {
     "base_uri": "https://localhost:8080/",
     "height": 642
    },
    "colab_type": "code",
    "id": "7TCahHisooId",
    "outputId": "b198ec29-d556-4877-f495-2a3a7103a3b1"
   },
   "outputs": [
    {
     "name": "stdout",
     "output_type": "stream",
     "text": [
      "----------------------------------------------------------------\n",
      "        Layer (type)               Output Shape         Param #\n",
      "================================================================\n",
      "            Conv3d-1     [-1, 12, 82, 266, 266]             336\n",
      "            Conv3d-2     [-1, 12, 80, 264, 264]           3,900\n",
      "         MaxPool3d-3       [-1, 12, 80, 88, 88]               0\n",
      "            Conv3d-4       [-1, 60, 78, 86, 86]          19,500\n",
      "            Conv3d-5       [-1, 60, 76, 84, 84]          97,260\n",
      "         MaxPool3d-6       [-1, 60, 76, 28, 28]               0\n",
      "            Conv3d-7      [-1, 300, 74, 26, 26]         486,300\n",
      "            Conv3d-8      [-1, 300, 72, 24, 24]       2,430,300\n",
      "         MaxPool3d-9        [-1, 300, 72, 8, 8]               0\n",
      "           Conv3d-10       [-1, 1500, 70, 6, 6]      12,151,500\n",
      "           Conv3d-11       [-1, 1500, 68, 4, 4]      60,751,500\n",
      "  ConvTranspose3d-12      [-1, 300, 68, 12, 12]       4,050,300\n",
      "           Conv3d-13      [-1, 300, 68, 12, 12]         180,300\n",
      "           Conv3d-14      [-1, 300, 66, 10, 10]       2,430,300\n",
      "           Conv3d-15        [-1, 300, 64, 8, 8]       2,430,300\n",
      "  ConvTranspose3d-16       [-1, 60, 64, 24, 24]         162,060\n",
      "           Conv3d-17       [-1, 60, 64, 24, 24]           7,260\n",
      "           Conv3d-18       [-1, 60, 62, 22, 22]          97,260\n",
      "           Conv3d-19       [-1, 60, 60, 20, 20]          97,260\n",
      "  ConvTranspose3d-20       [-1, 12, 60, 60, 60]           6,492\n",
      "           Conv3d-21       [-1, 12, 60, 60, 60]             300\n",
      "           Conv3d-22       [-1, 12, 58, 58, 58]           3,900\n",
      "           Conv3d-23        [-1, 3, 56, 56, 56]             975\n",
      "================================================================\n",
      "Total params: 85,407,303\n",
      "Trainable params: 85,407,303\n",
      "Non-trainable params: 0\n",
      "----------------------------------------------------------------\n",
      "Input size (MB): 23.01\n",
      "Forward/backward pass size (MB): 2085.67\n",
      "Params size (MB): 325.80\n",
      "Estimated Total Size (MB): 2434.49\n",
      "----------------------------------------------------------------\n"
     ]
    }
   ],
   "source": [
    "from unet_3d import UNet\n",
    "\n",
    "net = UNet().to(device)\n",
    "summary(net, (1,84,268,268))"
   ]
  },
  {
   "cell_type": "markdown",
   "metadata": {
    "colab_type": "text",
    "id": "Tm5_HBA6az0a"
   },
   "source": [
    "# Hyperparameters"
   ]
  },
  {
   "cell_type": "code",
   "execution_count": null,
   "metadata": {
    "colab": {},
    "colab_type": "code",
    "id": "nszFokpUZbmd"
   },
   "outputs": [],
   "source": [
    "EXP_NAME = \"3D_final\"\n",
    "\n",
    "EPOCHS = 1000\n",
    "BATCH_SIZE = 1 \n",
    "LEARNING_RATE = 1e-4\n",
    "BETA_1 = 0.95\n",
    "BETA_2 = 0.99\n",
    "\n",
    "N_IT = 50 \n",
    "\n",
    "INPUT_SIZE = (84,268,268)\n",
    "OUTPUT_SIZE = tuple(net(torch.zeros((1,1) + INPUT_SIZE).to(device)).shape[2:])\n",
    "DELTA = tuple(map(lambda x, y: (x - y)//2, INPUT_SIZE, OUTPUT_SIZE))\n",
    "STRIDE = (42,134,134)"
   ]
  },
  {
   "cell_type": "markdown",
   "metadata": {
    "colab_type": "text",
    "id": "QCTK0cb89C3W"
   },
   "source": [
    "# Dataset\n",
    "In this example, we use the [CREMI](https://cremi.org/data/) dataset, and will load directly the hdf file into a PyTorch dataset. "
   ]
  },
  {
   "cell_type": "markdown",
   "metadata": {
    "colab_type": "text",
    "id": "WDOvm2lFrizi"
   },
   "source": [
    "This function will be used to obtain all MxNxN patches in an image. (84x268x268 in our case)\n",
    "\n",
    "The parameter stride will be used to get overlapping images. A stride of S will give us an overlap of N-S between our patches\n"
   ]
  },
  {
   "cell_type": "code",
   "execution_count": null,
   "metadata": {
    "colab": {},
    "colab_type": "code",
    "id": "lmhCXVWWHuBK"
   },
   "outputs": [],
   "source": [
    "def get_patches(volume, segmentation, patch_size, stride):\n",
    "    patches = []\n",
    "    for i in range(0, volume.shape[0]-patch_size[0], stride[0]):\n",
    "        for j in range(0, volume.shape[1]-patch_size[1], stride[1]):\n",
    "            for k in range(0, volume.shape[2]-patch_size[2], stride[2]):\n",
    "                patches.append( (torch.tensor(volume[i:i+patch_size[0], j:j+patch_size[1], k:k+patch_size[2]], device=device, dtype=torch.float32),\n",
    "                                 torch.tensor(segmentation[i:i+patch_size[0], j:j+patch_size[1], k:k+patch_size[2]].astype(np.int32), dtype=torch.int32)) )\n",
    "    return patches"
   ]
  },
  {
   "cell_type": "code",
   "execution_count": null,
   "metadata": {
    "colab": {},
    "colab_type": "code",
    "id": "siPkeA6U8-zE"
   },
   "outputs": [],
   "source": [
    "class CREMIDataset(Dataset):\n",
    "\n",
    "    def __init__(self, dataset_path, transform=None):\n",
    "        hdf_file = h5py.File(dataset_path, 'r')\n",
    "        self.patches = get_patches(volume = hdf_file['volumes/raw'], \n",
    "                                   segmentation = hdf_file['volumes/labels/neuron_ids'], \n",
    "                                   patch_size = INPUT_SIZE, \n",
    "                                   stride = STRIDE)\n",
    "\n",
    "    def __len__(self):\n",
    "        return len(self.patches)\n",
    "\n",
    "    def __getitem__(self, idx):\n",
    "        volume, segmentation = self.patches[idx]\n",
    "        volume = torch.unsqueeze(volume, dim=0)\n",
    "        segmentation = torch.unsqueeze(segmentation, dim=0)\n",
    "\n",
    "        sample = {'volume': (volume/255)*2 - 1, 'segmentation': segmentation}\n",
    "        return sample"
   ]
  },
  {
   "cell_type": "code",
   "execution_count": null,
   "metadata": {
    "colab": {},
    "colab_type": "code",
    "id": "AIuaETHs66S-"
   },
   "outputs": [],
   "source": [
    "DATASET_PATH = '../CREMI datasets/train.hdf'"
   ]
  },
  {
   "cell_type": "code",
   "execution_count": null,
   "metadata": {
    "colab": {},
    "colab_type": "code",
    "id": "_tZ6MNyEDoG3"
   },
   "outputs": [],
   "source": [
    "dataset = CREMIDataset(DATASET_PATH)\n",
    "dataloader = torch.utils.data.DataLoader(dataset, batch_size=BATCH_SIZE,shuffle=True)"
   ]
  },
  {
   "cell_type": "markdown",
   "metadata": {
    "colab_type": "text",
    "id": "SPoTUCuhDl3W"
   },
   "source": [
    "# Graph Functions"
   ]
  },
  {
   "cell_type": "markdown",
   "metadata": {
    "colab_type": "text",
    "id": "1AazWNq9usgZ"
   },
   "source": [
    "\n",
    "## Graph weights\n",
    "\n",
    "This function is used to get the graph weights corresponding to our NN output.\n",
    "\n"
   ]
  },
  {
   "cell_type": "code",
   "execution_count": null,
   "metadata": {
    "colab": {},
    "colab_type": "code",
    "id": "XYLIMT3mSqDF"
   },
   "outputs": [],
   "source": [
    "def get_weights(x,y,z):\n",
    "  depth, heigh, width = x.shape\n",
    "\n",
    "  #In a first time we compute \"simple\" edge weights\n",
    "  z_u = z[:-1,:-1,:-1].permute(0,2,1)\n",
    "  y_u = y[:-1,1:,:-1].permute(0,2,1)\n",
    "  x_u = x[:-1,:-1,:-1].permute(0,2,1)\n",
    "\n",
    "  out = torch.empty((depth-1,3*(width-1), heigh-1), device=device)\n",
    "  out[:,0::3,:] = x_u\n",
    "  out[:,1::3,:] = y_u\n",
    "  out[:,2::3,:] = z_u\n",
    "\n",
    "  y_x = y[:-1,1:,-1]\n",
    "  z_x = z[:-1,:-1,-1]\n",
    "  #Concatenate weights from the face in the direction x\n",
    "  out = torch.cat((out, torch.stack((y_x, z_x),1) ), 1)\n",
    "\n",
    "  #Flatten following dimension 1 before concat with border weights\n",
    "  out = torch.flatten(out.transpose(1, 2), start_dim=1)\n",
    "\n",
    "  #Create border weights (x,z) in direction y\n",
    "  border = torch.empty((depth-1,2*width-1), device=device)\n",
    "  border[:,:-1:2]=x[:-1,-1,:-1]\n",
    "  border[:,1::2]=z[:-1,-1,:-1]\n",
    "  border[:,-1]=z[:-1,-1,-1]\n",
    "\n",
    "  out = torch.cat((out, border), 1).flatten()\n",
    "\n",
    "  #Create border weights (x,y) in direction z\n",
    "  border_1 = torch.empty((heigh-1,2*width-1), device=device)\n",
    "  border_1[:,1::2]=y[-1,1:,:-1]\n",
    "  border_1[:,0:-1:2]=x[-1,:-1,:-1]\n",
    "  border_1[:,-1]=y[-1,1:,-1]\n",
    "  border_1=torch.cat((border_1.flatten(), x[-1,-1,:-1]))\n",
    "  border_1\n",
    "\n",
    "  out = torch.cat((out, border_1), 0)\n",
    "  return out"
   ]
  },
  {
   "cell_type": "markdown",
   "metadata": {
    "colab_type": "text",
    "id": "AFNopkZsv_NI"
   },
   "source": [
    "## Get mask from groundtruth"
   ]
  },
  {
   "cell_type": "code",
   "execution_count": null,
   "metadata": {
    "colab": {},
    "colab_type": "code",
    "id": "r2h4Yn7sVpbO"
   },
   "outputs": [],
   "source": [
    "def get_mask(g,vertex_classes):\n",
    "  weights = hg.weight_graph(g,vertex_classes.flatten(),hg.WeightFunction.L1)\n",
    "  weights[weights != 0 ] = 1\n",
    "  return weights"
   ]
  },
  {
   "cell_type": "markdown",
   "metadata": {
    "colab_type": "text",
    "id": "2UyJInG7wHSN"
   },
   "source": [
    "## Maximin\n",
    "\n",
    "To calculate the maximin edge value for all pairs of pixels, we will use a binary partition tree as described in [Playing with Kruskal: algorithms for morphological trees in edge-weighted graphs](https://hal.archives-ouvertes.fr/hal-00798621/). This will give us all the necessary data needed to compute the loss."
   ]
  },
  {
   "cell_type": "code",
   "execution_count": null,
   "metadata": {
    "colab": {},
    "colab_type": "code",
    "id": "SKTocY7cUYW_"
   },
   "outputs": [],
   "source": [
    "def relabel(tab):\n",
    "    #coef = 1/tab.min().type(torch.FloatTensor)\n",
    "    #tab= (tab*coef).type(torch.IntTensor)\n",
    "    labeled = skimage.measure.label(tab, background=0, connectivity=1)\n",
    "    return labeled-1, np.unique(labeled).shape[0]\n"
   ]
  },
  {
   "cell_type": "markdown",
   "metadata": {
    "colab_type": "text",
    "id": "kQNFtr74wXvi"
   },
   "source": [
    "Here we will use cython for a small bit of code, as it was a major bottleneck during training"
   ]
  },
  {
   "cell_type": "code",
   "execution_count": null,
   "metadata": {
    "colab": {},
    "colab_type": "code",
    "id": "ykQXmk2yx95N"
   },
   "outputs": [],
   "source": [
    "%load_ext cython"
   ]
  },
  {
   "cell_type": "code",
   "execution_count": null,
   "metadata": {
    "colab": {},
    "colab_type": "code",
    "id": "EvUPp-0IxB_j"
   },
   "outputs": [],
   "source": [
    "%%cython\n",
    "import numpy as np\n",
    "cimport numpy as np\n",
    "from cython import wraparound, boundscheck\n",
    "\n",
    "DTYPE = np.int\n",
    "ctypedef np.int_t DTYPE_t\n",
    "\n",
    "#def compute_areas(vertex_labels, left, right, V, k):\n",
    "@boundscheck(False) # turn off bounds-checking for entire function\n",
    "def compute_areas(np.ndarray[DTYPE_t, ndim=1] vertex_labels, np.ndarray[DTYPE_t, ndim=1] left, np.ndarray[DTYPE_t, ndim=1] right,DTYPE_t V,DTYPE_t k):\n",
    "    cdef np.ndarray[DTYPE_t, ndim=2] T = np.zeros((2*V-1,k),dtype=DTYPE)\n",
    "    cdef int i,j,l,r\n",
    "    for i in range(0,V):\n",
    "        T[i,vertex_labels[i]] = 1\n",
    "    for i in range(V-1):\n",
    "        for j in range(k):\n",
    "            T[V+i,j] = T[left[i],j] + T[right[i],j]\n",
    "    return T"
   ]
  },
  {
   "cell_type": "code",
   "execution_count": null,
   "metadata": {
    "colab": {},
    "colab_type": "code",
    "id": "2xfnC15cE3L4"
   },
   "outputs": [],
   "source": [
    "def get_maximin_edges(graph, edge_weights, truth, step):\n",
    "    V = graph.num_vertices()\n",
    "\n",
    "    #Relabel our groundtruth for ease of computation\n",
    "    labeled,k = relabel(truth)\n",
    "    vertex_weights = labeled.flatten()\n",
    "\n",
    "    tree, altitudes = hg.bpt_canonical(graph, -edge_weights.detach().numpy())\n",
    "    mst = hg.get_attribute(tree,\"mst\")\n",
    "    mst_map =hg.get_attribute(mst,\"mst_edge_map\")\n",
    "   \n",
    "    #areas 0:|V| = nodes, areas |V|:2|V|-2 = edges\n",
    "    #CF playing with kruskal\n",
    "    areas = hg.attribute_area(tree)\n",
    "    right = tree.child(1)\n",
    "    left = tree.child(0)\n",
    "\n",
    "    #Computing the areas of each label k\n",
    "    T = compute_areas(vertex_weights, left, right, V, k)\n",
    "     \n",
    "    for i in range(left.size):\n",
    "      T[V+i,:] = T[left[i],:] + T[right[i],:]\n",
    "\n",
    "    wp = np.sum(T[left,:]*T[right,:],axis=1)\n",
    "    if step == \"positive\":\n",
    "      return wp, mst_map\n",
    "    else:\n",
    "      wn = areas[right]*areas[left] - wp\n",
    "      return wn, mst_map"
   ]
  },
  {
   "cell_type": "markdown",
   "metadata": {
    "colab_type": "text",
    "id": "CCrqHKQQwkg9"
   },
   "source": [
    "# Loss and optimizer"
   ]
  },
  {
   "cell_type": "code",
   "execution_count": null,
   "metadata": {
    "colab": {},
    "colab_type": "code",
    "id": "ualidC5qwoYz"
   },
   "outputs": [],
   "source": [
    "def l(truth, predicted):\n",
    "    return (truth-predicted)**2"
   ]
  },
  {
   "cell_type": "code",
   "execution_count": null,
   "metadata": {
    "colab": {},
    "colab_type": "code",
    "id": "yZ4qpjQ9YqeT"
   },
   "outputs": [],
   "source": [
    "def positive_loss(wp,affinities,f):\n",
    "    Lp = torch.from_numpy(wp).to(device)*f(torch.ones(affinities.shape,device=device),affinities)\n",
    "    return Lp\n",
    "def negative_loss(wn,affinities,f):\n",
    "    Ln = torch.from_numpy(wn).to(device)*f(torch.zeros(affinities.shape,device=device),affinities)\n",
    "    return Ln"
   ]
  },
  {
   "cell_type": "code",
   "execution_count": null,
   "metadata": {
    "colab": {},
    "colab_type": "code",
    "id": "DDt5213pcWbZ"
   },
   "outputs": [],
   "source": [
    "optimizer = torch.optim.Adam(net.parameters(), lr=LEARNING_RATE, betas=(BETA_1, BETA_2))"
   ]
  },
  {
   "cell_type": "markdown",
   "metadata": {
    "colab_type": "text",
    "id": "S81DLQzcTUDg"
   },
   "source": [
    "# Training"
   ]
  },
  {
   "cell_type": "code",
   "execution_count": null,
   "metadata": {
    "colab": {},
    "colab_type": "code",
    "id": "G6eq0sBvOW-9"
   },
   "outputs": [],
   "source": [
    "losses=[]\n",
    "losses_p=[]\n",
    "losses_n=[]\n",
    "it = 0"
   ]
  },
  {
   "cell_type": "code",
   "execution_count": null,
   "metadata": {
    "colab": {
     "base_uri": "https://localhost:8080/",
     "height": 426
    },
    "colab_type": "code",
    "id": "-NP0KQs5TzSV",
    "outputId": "0a1cf798-0c3d-4137-b6b8-e21a96900075"
   },
   "outputs": [
    {
     "data": {
      "image/png": "[encoded data removed]",
      "text/plain": [
       "<Figure size 1584x504 with 5 Axes>"
      ]
     },
     "metadata": {
      "needs_background": "light",
      "tags": []
     },
     "output_type": "display_data"
    },
    {
     "name": "stdout",
     "output_type": "stream",
     "text": [
      "50150 th iteration, avg Lp:  953095200.0  Ln:  166709310.56299987 time taken:  125.35989117622375 seconds\n"
     ]
    }
   ],
   "source": [
    "def train():\n",
    "    global it\n",
    "    mask = [[[0, 0, 0], [0, 1, 0], [0, 0, 0]],\n",
    "            [[0, 1, 0], [1, 0, 1], [0, 1, 0]],\n",
    "            [[0, 0, 0], [0, 1, 0], [0, 0, 0]]]\n",
    "    neighbours = hg.mask_2_neighbours(mask)\n",
    "    graph = hg.get_nd_regular_graph(OUTPUT_SIZE, neighbours)\n",
    "    start=time.time()\n",
    "    for epoch in range(EPOCHS):\n",
    "        #For each volume in the dataset\n",
    "        for i, patch in enumerate(dataloader):\n",
    "            net.zero_grad()\n",
    "\n",
    "            volume = patch['volume']\n",
    "            segmentation = patch['segmentation']\n",
    "            # crop our groundtruth\n",
    "            segmentation = segmentation[0, 0, DELTA[0]:-DELTA[0], DELTA[1]:-DELTA[1], DELTA[2]:-DELTA[2]]\n",
    "\n",
    "            # Making predictioms\n",
    "            output = net(volume)\n",
    "            output_x = output[0, 0, :,:,:]\n",
    "            output_y = output[0, 1, :,:,:]\n",
    "            output_z = output[0, 2, :,:,:]\n",
    "        \n",
    "            # Retrieving the maximin edge using Higra   \n",
    "            edge_weights = get_weights(output_x, output_y, output_z)\n",
    "            \n",
    "            # mask[i] = 0 => Edge is between same object \n",
    "            #         = 1 => Edge is between different object\n",
    "            mask = get_mask(graph, segmentation)\n",
    "            #=================================\n",
    "            #        positive pass  \n",
    "            #=================================\n",
    "            \n",
    "            positive_edges = edge_weights.clone().detach()\n",
    "            # negative edges to 0\n",
    "            positive_edges[mask==1] = 0 \n",
    "            # get maximin edges\n",
    "            wp, mst_map = get_maximin_edges(graph, positive_edges.to(\"cpu\"), segmentation, step=\"positive\")\n",
    "            mm_positive_values = edge_weights[mst_map]\n",
    "            Lp = positive_loss(wp, mm_positive_values, l)\n",
    "\n",
    "            negative_edges = edge_weights.clone().detach()\n",
    "            # positive edges to 1\n",
    "            negative_edges[mask==0] = 1\n",
    "            # get maximin edges\n",
    "            wn, mst_map = get_maximin_edges(graph, negative_edges.to(\"cpu\"), segmentation, step=\"negative\")\n",
    "            mm_negative_values = edge_weights[mst_map]\n",
    "            Ln = negative_loss(wn, mm_negative_values, l)\n",
    "\n",
    "            #=================================\n",
    "            #        Sum of losses \n",
    "            #=================================\n",
    "\n",
    "            loss = torch.sum(Lp + Ln)\n",
    "\n",
    "            losses.append(loss.clone().detach().cpu().numpy())\n",
    "            losses_p.append(torch.sum(Lp).clone().detach().cpu().numpy())\n",
    "            losses_n.append(torch.sum(Ln).clone().detach().cpu().numpy())\n",
    "\n",
    "            # Updating weights\n",
    "            loss.backward()\n",
    "            optimizer.step()\n",
    "            it += 1\n",
    "            \n",
    "            if it%50 == 0:\n",
    "                print_state(net, dataset[0][\"volume\"][0].clone().detach().cpu(), losses_p, losses_n, losses,samples=200)\n",
    "                print(it,\"th iteration, avg Lp: \", np.mean(losses_p[it-200:it-1]),\" Ln: \",np.mean(losses_n[it-200:it-1]),  \"time taken: \",time.time()-start,\"seconds\" )\n",
    "                start= time.time()\n",
    "\n",
    "            if it%1000 == 0:\n",
    "                filename = './checkpoints/'+EXP_NAME+'_'+str(it)+'.ckpt'\n",
    "                torch.save({\n",
    "                  'iteration': it,\n",
    "                  'model_state_dict': net.state_dict(),\n",
    "                  'optimizer_state_dict': optimizer.state_dict(),\n",
    "                  'loss_p': losses_p,\n",
    "                  'loss_n': losses_n\n",
    "                  }, filename)\n",
    "                \n",
    "            if it == N_IT:\n",
    "              torch.save(net.state_dict(), \"./models/model_\"+EXP_NAME+\".pt\" )\n",
    "              np.save(\"./losses/p_loss_\"+EXP_NAME+\".npy\", np.array(losses_p))\n",
    "              np.save(\"./losses/n_loss_\"+EXP_NAME+\".npy\", np.array(losses_n))\n",
    "              return\n",
    "          \n",
    "            del output\n",
    "            del output_x\n",
    "            del output_y\n",
    "            del edge_weights\n",
    "train()"
   ]
  },
  {
   "cell_type": "code",
   "execution_count": null,
   "metadata": {
    "colab": {},
    "colab_type": "code",
    "id": "qiFv2_3l3JEg"
   },
   "outputs": [],
   "source": [
    "torch.save(net.state_dict(), \"./models/model_\"+EXP_NAME+\".pt\" )\n",
    "np.save(\"./losses/p_loss_\"+EXP_NAME+\".npy\", np.array(losses_p))\n",
    "np.save(\"./losses/n_loss_\"+EXP_NAME+\".npy\", np.array(losses_n))"
   ]
  }
 ],
 "metadata": {
  "accelerator": "GPU",
  "colab": {
   "collapsed_sections": [
    "QCTK0cb89C3W",
    "GDu2nG7SCr9c"
   ],
   "name": "Training_Unet_MALA_3D.ipynb",
   "provenance": []
  },
  "kernelspec": {
   "display_name": "Python 3",
   "language": "python",
   "name": "python3"
  },
  "language_info": {
   "codemirror_mode": {
    "name": "ipython",
    "version": 3
   },
   "file_extension": ".py",
   "mimetype": "text/x-python",
   "name": "python",
   "nbconvert_exporter": "python",
   "pygments_lexer": "ipython3",
   "version": "3.8.2"
  }
 },
 "nbformat": 4,
 "nbformat_minor": 1
}
