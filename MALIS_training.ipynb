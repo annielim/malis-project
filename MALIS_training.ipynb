{
 "cells": [
  {
   "cell_type": "markdown",
   "metadata": {
    "colab_type": "text",
    "id": "OPLftKrCAwh8"
   },
   "source": [
    "# Maximin Affinity Learning of Image Segmentation (MALIS)\n",
    "\n",
    "In this notebook, we will implement the following paper:\n",
    "> [*Maximin affinity learning of image segmentation*, Srinivas C. Turaga et al. Advances in Neural Information Processing Systems, 2009](http://papers.nips.cc/paper/3887-maximin-affinity-learning-of-image-segmentation)\n",
    "\n",
    "We tried to be as faithful as possible to the original implementation, but since some information were absent (e.g. optimizer used, which probably was SGD) we had to guess what was used.\n",
    "We also used some more recent improvements, either in the neural network or in the maximin computation. \n",
    "\n",
    "We also used the following thesis to help us in our implementation, as it gives a bit more clarity on some steps of the process.\n",
    "> [*Learning image segmentation and hierarchies by learning ultrametric distances*, Srinivas C. Turaga, 2009.](https://dspace.mit.edu/handle/1721.1/54626)"
   ]
  },
  {
   "cell_type": "code",
   "execution_count": 0,
   "metadata": {
    "colab": {
     "base_uri": "https://localhost:8080/",
     "height": 311
    },
    "colab_type": "code",
    "id": "Vl6d9zPwmRnm",
    "outputId": "95c5a629-653e-4f48-90d5-b81b3ec59448"
   },
   "outputs": [
    {
     "name": "stdout",
     "output_type": "stream",
     "text": [
      "Sat Jan 18 23:32:11 2020       \n",
      "+-----------------------------------------------------------------------------+\n",
      "| NVIDIA-SMI 440.44       Driver Version: 418.67       CUDA Version: 10.1     |\n",
      "|-------------------------------+----------------------+----------------------+\n",
      "| GPU  Name        Persistence-M| Bus-Id        Disp.A | Volatile Uncorr. ECC |\n",
      "| Fan  Temp  Perf  Pwr:Usage/Cap|         Memory-Usage | GPU-Util  Compute M. |\n",
      "|===============================+======================+======================|\n",
      "|   0  Tesla P100-PCIE...  Off  | 00000000:00:04.0 Off |                    0 |\n",
      "| N/A   48C    P0    35W / 250W |    739MiB / 16280MiB |      0%      Default |\n",
      "+-------------------------------+----------------------+----------------------+\n",
      "                                                                               \n",
      "+-----------------------------------------------------------------------------+\n",
      "| Processes:                                                       GPU Memory |\n",
      "|  GPU       PID   Type   Process name                             Usage      |\n",
      "|=============================================================================|\n",
      "+-----------------------------------------------------------------------------+\n"
     ]
    }
   ],
   "source": [
    "!nvidia-smi"
   ]
  },
  {
   "cell_type": "code",
   "execution_count": 0,
   "metadata": {
    "colab": {},
    "colab_type": "code",
    "id": "gn-jnEyGDbM2"
   },
   "outputs": [],
   "source": [
    "%%capture\n",
    "!pip install ipywidgets\n",
    "!pip install higra\n",
    "\n",
    "import numpy as np\n",
    "%matplotlib inline\n",
    "import matplotlib.pyplot as plt\n",
    "\n",
    "import h5py\n",
    "\n",
    "import higra as hg\n",
    "from higra import HorizontalCutExplorer,HorizontalCutNodes, CptHierarchy\n",
    "\n",
    "import torch\n",
    "import torch.nn as nn\n",
    "import torch.nn.functional as F\n",
    "from torchsummary import summary\n",
    "import torch.optim as optim\n",
    "from torch.utils.data import Dataset, DataLoader\n",
    "import time\n",
    "\n",
    "device = torch.device(\"cuda\" if torch.cuda.is_available() else \"cpu\")"
   ]
  },
  {
   "cell_type": "markdown",
   "metadata": {
    "colab_type": "text",
    "id": "Tm5_HBA6az0a"
   },
   "source": [
    "# Hyperparameters"
   ]
  },
  {
   "cell_type": "code",
   "execution_count": 0,
   "metadata": {
    "colab": {},
    "colab_type": "code",
    "id": "SDNYot-Ta3OG"
   },
   "outputs": [],
   "source": [
    "EPOCHS = 100\n",
    "BATCH_SIZE = 1 \n",
    "LEARNING_RATE = 1e-4\n",
    "BETA_1 = 0.9\n",
    "BETA_2 = 0.99\n",
    "PATCH_SIZE = 21\n",
    "N_PAIRS = 8"
   ]
  },
  {
   "cell_type": "markdown",
   "metadata": {
    "colab_type": "text",
    "id": "QCTK0cb89C3W"
   },
   "source": [
    "# Dataset\n",
    "\n",
    "In this example, we use the [CREMI](https://cremi.org/data/) dataset, and will load directly the hdf file into a PyTorch dataset."
   ]
  },
  {
   "cell_type": "code",
   "execution_count": 0,
   "metadata": {
    "colab": {},
    "colab_type": "code",
    "id": "siPkeA6U8-zE"
   },
   "outputs": [],
   "source": [
    "class CREMIDataset(Dataset):\n",
    "    \"\"\"CREMI Dataset\"\"\"\n",
    "\n",
    "    def __init__(self, hdf_file, img_dir, seg_dir, transform=None):\n",
    "        \"\"\"\n",
    "        Args:\n",
    "            hdf_file (string): Path to the hdf file with the data.\n",
    "            img_dir (string): Directory with all the images.\n",
    "            seg_dir (string): Directory with all the associated segmentation.\n",
    "            transform (callable, optional): Optional transform to be applied\n",
    "                on a sample.\n",
    "        \"\"\"\n",
    "        self.hdf = h5py.File(hdf_file, 'r')\n",
    "        self.img_dir = img_dir\n",
    "        self.seg_dir = seg_dir\n",
    "        self.transform = transform\n",
    "        self.image_shape = self.hdf[self.img_dir][0].shape\n",
    "\n",
    "    def __len__(self):\n",
    "        return self.hdf[self.img_dir].shape[0]\n",
    "\n",
    "    def __getitem__(self, idx):\n",
    "        if torch.is_tensor(idx):\n",
    "            idx = idx.tolist()\n",
    "        #Fuse all ndarrays into one and normalize\n",
    "        image = np.stack([self.hdf[self.img_dir][idx]],axis=0)/255\n",
    "        #Change type since original type (uint64) is not supported\n",
    "        segment = np.stack(self.hdf[self.seg_dir][idx],axis=0).astype(np.int64)\n",
    "\n",
    "        sample = {'image': image, 'segmentation': segment}\n",
    "\n",
    "        if self.transform:\n",
    "            sample = self.transform(sample)\n",
    "\n",
    "        return sample"
   ]
  },
  {
   "cell_type": "markdown",
   "metadata": {
    "colab_type": "text",
    "id": "TG28dwR7_Wa2"
   },
   "source": [
    "This function will be used to obtain all NxN patches in an image. (21x21 in our case)\n",
    "\n",
    "The parameter *stride* will be used to get overlapping images. A stride of M will give us an overlap of N-M between our patches"
   ]
  },
  {
   "cell_type": "code",
   "execution_count": 0,
   "metadata": {
    "colab": {},
    "colab_type": "code",
    "id": "GkyS5aD09nHg"
   },
   "outputs": [],
   "source": [
    "def get_patches_from_image(image,gt_image, patch_size, stride=None):\n",
    "  if stride == None:\n",
    "    stride = patch_size\n",
    "  n_patches = (image.shape[1]-patch_size)//stride + 1\n",
    "  patches = []\n",
    "  for i in range(0,image.shape[1]-patch_size,stride):\n",
    "    for j in range(0,image.shape[1]-patch_size,stride):\n",
    "        uniques,counts = np.unique(gt_image[...,i:i+patch_size,j:j+patch_size],return_counts=True)\n",
    "        #Can reduce X in the condition 'count > X' by modfiying pair generation\n",
    "        if len([unique for i,unique in enumerate(uniques) if counts[i] > 2*N_PAIRS])> 2:\n",
    "          patches.append(image[...,i:i+patch_size,j:j+patch_size])\n",
    "  return patches"
   ]
  },
  {
   "cell_type": "code",
   "execution_count": 0,
   "metadata": {
    "colab": {},
    "colab_type": "code",
    "id": "tIW8Neoh9UvP"
   },
   "outputs": [],
   "source": [
    "filename = 'sample_A_20160501.hdf' \n",
    "dataset = CREMIDataset(filename,'volumes/raw','volumes/labels/neuron_ids')"
   ]
  },
  {
   "cell_type": "code",
   "execution_count": 0,
   "metadata": {
    "colab": {},
    "colab_type": "code",
    "id": "_tZ6MNyEDoG3"
   },
   "outputs": [],
   "source": [
    "dataloader = torch.utils.data.DataLoader(dataset, batch_size=BATCH_SIZE,shuffle=True, num_workers=1)"
   ]
  },
  {
   "cell_type": "markdown",
   "metadata": {
    "colab_type": "text",
    "id": "WbbUdnnBHEUn"
   },
   "source": [
    "# CNN architecture"
   ]
  },
  {
   "cell_type": "code",
   "execution_count": 0,
   "metadata": {
    "colab": {
     "base_uri": "https://localhost:8080/",
     "height": 844
    },
    "colab_type": "code",
    "id": "W1RosVhfHJ11",
    "outputId": "c715e66a-4328-4558-fe3b-4fd97ed0b16f"
   },
   "outputs": [
    {
     "name": "stdout",
     "output_type": "stream",
     "text": [
      "Net(\n",
      "  (relu): ReLU()\n",
      "  (conv1): Conv2d(1, 8, kernel_size=(5, 5), stride=(1, 1), padding=(2, 2))\n",
      "  (conv1_bn): BatchNorm2d(8, eps=1e-05, momentum=0.1, affine=True, track_running_stats=True)\n",
      "  (conv2): Conv2d(8, 32, kernel_size=(5, 5), stride=(1, 1), padding=(2, 2))\n",
      "  (conv2_bn): BatchNorm2d(32, eps=1e-05, momentum=0.1, affine=True, track_running_stats=True)\n",
      "  (conv3): Conv2d(32, 32, kernel_size=(5, 5), stride=(1, 1), padding=(2, 2))\n",
      "  (conv3_bn): BatchNorm2d(32, eps=1e-05, momentum=0.1, affine=True, track_running_stats=True)\n",
      "  (conv4): Conv2d(32, 32, kernel_size=(5, 5), stride=(1, 1), padding=(2, 2))\n",
      "  (conv4_bn): BatchNorm2d(32, eps=1e-05, momentum=0.1, affine=True, track_running_stats=True)\n",
      "  (conv5): Conv2d(32, 8, kernel_size=(5, 5), stride=(1, 1), padding=(2, 2))\n",
      "  (conv5_bn): BatchNorm2d(8, eps=1e-05, momentum=0.1, affine=True, track_running_stats=True)\n",
      "  (conv6): Conv2d(8, 2, kernel_size=(5, 5), stride=(1, 1), padding=(2, 2))\n",
      "  (sigmoid): Sigmoid()\n",
      ")\n",
      "----------------------------------------------------------------\n",
      "        Layer (type)               Output Shape         Param #\n",
      "================================================================\n",
      "            Conv2d-1            [-1, 8, 21, 21]             208\n",
      "       BatchNorm2d-2            [-1, 8, 21, 21]              16\n",
      "              ReLU-3            [-1, 8, 21, 21]               0\n",
      "            Conv2d-4           [-1, 32, 21, 21]           6,432\n",
      "       BatchNorm2d-5           [-1, 32, 21, 21]              64\n",
      "              ReLU-6           [-1, 32, 21, 21]               0\n",
      "            Conv2d-7           [-1, 32, 21, 21]          25,632\n",
      "       BatchNorm2d-8           [-1, 32, 21, 21]              64\n",
      "              ReLU-9           [-1, 32, 21, 21]               0\n",
      "           Conv2d-10           [-1, 32, 21, 21]          25,632\n",
      "      BatchNorm2d-11           [-1, 32, 21, 21]              64\n",
      "             ReLU-12           [-1, 32, 21, 21]               0\n",
      "           Conv2d-13            [-1, 8, 21, 21]           6,408\n",
      "      BatchNorm2d-14            [-1, 8, 21, 21]              16\n",
      "             ReLU-15            [-1, 8, 21, 21]               0\n",
      "           Conv2d-16            [-1, 2, 21, 21]             402\n",
      "          Sigmoid-17            [-1, 2, 21, 21]               0\n",
      "================================================================\n",
      "Total params: 64,938\n",
      "Trainable params: 64,938\n",
      "Non-trainable params: 0\n",
      "----------------------------------------------------------------\n",
      "Input size (MB): 0.00\n",
      "Forward/backward pass size (MB): 1.14\n",
      "Params size (MB): 0.25\n",
      "Estimated Total Size (MB): 1.39\n",
      "----------------------------------------------------------------\n"
     ]
    }
   ],
   "source": [
    "class Net(nn.Module):\n",
    "  def __init__(self):\n",
    "    super(Net, self).__init__()\n",
    "    self.relu = nn.ReLU()\n",
    "    self.conv1 = nn.Conv2d(1,8,5, padding=2) #padding = (kernel-1)/2\n",
    "    self.conv1_bn = nn.BatchNorm2d(8)\n",
    "    self.conv2 = nn.Conv2d(8,32,5, padding=2)\n",
    "    self.conv2_bn = nn.BatchNorm2d(32)\n",
    "    self.conv3 = nn.Conv2d(32,32,5, padding=2)\n",
    "    self.conv3_bn = nn.BatchNorm2d(32)\n",
    "    self.conv4 = nn.Conv2d(32,32,5, padding=2)\n",
    "    self.conv4_bn = nn.BatchNorm2d(32)\n",
    "    self.conv5 = nn.Conv2d(32,8,5, padding=2)\n",
    "    self.conv5_bn = nn.BatchNorm2d(8)\n",
    "    self.conv6 = nn.Conv2d(8,2,5, padding=2)\n",
    "    self.sigmoid = nn.Sigmoid()\n",
    "\n",
    "\n",
    "  def forward(self, x):\n",
    "    x = self.relu(self.conv1_bn(self.conv1(x)))\n",
    "    x = self.relu(self.conv2_bn(self.conv2(x)))\n",
    "    x = self.relu(self.conv3_bn(self.conv3(x)))\n",
    "    x = self.relu(self.conv4_bn(self.conv4(x)))\n",
    "    x = self.relu(self.conv5_bn(self.conv5(x)))\n",
    "    x = self.sigmoid(self.conv6(x))\n",
    "\n",
    "    return x\n",
    "\n",
    "\n",
    "net = Net().to(device)\n",
    "print(net)\n",
    "summary(net, (1,21,21))"
   ]
  },
  {
   "cell_type": "markdown",
   "metadata": {
    "colab_type": "text",
    "id": "SPoTUCuhDl3W"
   },
   "source": [
    "# Graph reconstruction\n",
    "This function is used to get the graph corresponding to our NN output.\n",
    "  * *edge_values_x[i]* is the value of the edge from i to it's right neigbour\n",
    "  * *edge_values_y[i]* is the value of the edge from i to it's top neigbour"
   ]
  },
  {
   "cell_type": "code",
   "execution_count": 0,
   "metadata": {
    "colab": {},
    "colab_type": "code",
    "id": "8xjenSo6DuaP"
   },
   "outputs": [],
   "source": [
    "def get_graph_from_image(edge_values_x, edge_values_y,plot=False):\n",
    "  \n",
    "  image_size = edge_values_x.shape\n",
    "  #Dimensionality reduction\n",
    "  if edge_values_x.ndim > 1:\n",
    "    edge_values_x = edge_values_x.flatten()\n",
    "  if edge_values_y.ndim > 1:\n",
    "    edge_values_y = edge_values_y.flatten()\n",
    "  \n",
    "  #Graph creation\n",
    "  g = hg.get_4_adjacency_graph(image_size)\n",
    "\n",
    "  #weighting function\n",
    "  def weight_fn(i, j):\n",
    "    im = min(i,j)\n",
    "    jm = max(i,j)\n",
    "    if jm-im == image_size[0]: \n",
    "      #We have two pixel on top of each other\n",
    "      return edge_values_y[jm]\n",
    "    else:\n",
    "      return edge_values_x[im]\n",
    "\n",
    "  # Computing weights\n",
    " \n",
    "  edge_w = hg.weight_graph_function(g,weight_fn)\n",
    "  if plot :\n",
    "    plt.imshow(hg.graph_4_adjacency_2_khalimsky(g, 1-edge_w.detach().numpy()),cmap=\"gray\")\n",
    "\n",
    "  return g, edge_w\n",
    "  "
   ]
  },
  {
   "cell_type": "markdown",
   "metadata": {
    "colab_type": "text",
    "id": "bWfJ4FJkE3xk"
   },
   "source": [
    "# Maximin\n",
    "\n",
    "To calculate the maximin edge value for two distinct vertices, we will use a binary partition tree as described in [Playing with Kruskal: algorithms formorphological trees in edge-weighted graphs](https://hal.archives-ouvertes.fr/hal-00798621/) which will give us increased performances over a simple MST with a breadth first search between our vertices, especially if we want to use multiple pairs our vertices."
   ]
  },
  {
   "cell_type": "code",
   "execution_count": 0,
   "metadata": {
    "colab": {},
    "colab_type": "code",
    "id": "TupEK0MLGvC3"
   },
   "outputs": [],
   "source": [
    "def get_random_pairs(gt, n_pairs):\n",
    "  if gt.ndim > 1:\n",
    "    gt = gt.flatten()\n",
    "  #Finding 2 random regions (All patches must have at least 2)\n",
    "  rgs,count = np.unique(gt,return_counts=True)\n",
    "  # Filtering regions with not enough pixels for all pairs\n",
    "  regions = np.array([rg for i,rg in enumerate(rgs) if count[i] > 2*n_pairs])\n",
    "  rnd_reg = np.random.choice(regions,2,replace=False)\n",
    "  indices_1 =np.argwhere(gt==rnd_reg[0]).flatten()\n",
    "  indices_2 = np.argwhere(gt==rnd_reg[1]).flatten()\n",
    "  \n",
    "  pairs_intra = np.random.choice(indices_1,(n_pairs,2),replace=False)\n",
    "\n",
    "  pairs_inter_1 = np.random.choice(indices_1,(n_pairs,1),replace=False)\n",
    "  pairs_inter_2 = np.random.choice(indices_2,(n_pairs,1),replace=False)\n",
    "  pairs_inter = np.hstack((pairs_inter_1,pairs_inter_2))\n",
    "  return (pairs_inter, pairs_intra)"
   ]
  },
  {
   "cell_type": "code",
   "execution_count": 0,
   "metadata": {
    "colab": {},
    "colab_type": "code",
    "id": "2xfnC15cE3L4"
   },
   "outputs": [],
   "source": [
    "def get_maximin_edge(graph, edge_weights, rand_pairs):\n",
    "  # get maximin between vertices at index v1 and v2\n",
    "  tree, altitudes = hg.bpt_canonical(graph, -edge_weights/255)\n",
    "  lcaf = hg.make_lca_fast(tree)\n",
    "  \n",
    "  #Get edge\n",
    "  mst = hg.get_attribute(tree,\"mst\")\n",
    "  mst_map =hg.get_attribute(mst,\"mst_edge_map\")\n",
    "  mst_idcs = lcaf.lca(*rand_pairs.T) - tree.num_leaves()\n",
    "  edge_idcs = mst_map[mst_idcs]\n",
    "  return np.array([graph.edge_from_index(edge_idx)[:2] for edge_idx in edge_idcs])"
   ]
  },
  {
   "cell_type": "markdown",
   "metadata": {
    "colab_type": "text",
    "id": "v3xwHtnjN61p"
   },
   "source": [
    "# Loss and optimizer"
   ]
  },
  {
   "cell_type": "code",
   "execution_count": 0,
   "metadata": {
    "colab": {},
    "colab_type": "code",
    "id": "K3_NFgahN9eM"
   },
   "outputs": [],
   "source": [
    "def indicator_fn(gt_image, rand_pairs):\n",
    "  im = gt_image.flatten()\n",
    "  t = torch.tensor([1 if im[pair[0]] == im[pair[1]] else 0 for pair in rand_pairs],device=device,dtype=torch.float)\n",
    "  return t"
   ]
  },
  {
   "cell_type": "code",
   "execution_count": 0,
   "metadata": {
    "colab": {},
    "colab_type": "code",
    "id": "MMkg6XOlOObe"
   },
   "outputs": [],
   "source": [
    "def nn_loss(gt_image, pred, rand_pairs, margin=0.3):\n",
    "  #rand_pair tuple\n",
    "  x = indicator_fn(gt_image, rand_pairs)\n",
    "  #print(\"Preds :\",pred)\n",
    "  #print(\"Truth :\", x)\n",
    "  loss = x*torch.relu(1-pred-margin)**2+(1-x)*torch.relu(pred - margin)**2\n",
    "  #print(\"Loss :\",loss)\n",
    "  loss = torch.mean(loss)\n",
    "  return loss"
   ]
  },
  {
   "cell_type": "code",
   "execution_count": 0,
   "metadata": {
    "colab": {},
    "colab_type": "code",
    "id": "DDt5213pcWbZ"
   },
   "outputs": [],
   "source": [
    "optimizer = optim.Adam(net.parameters(), lr=LEARNING_RATE, betas=(BETA_1, BETA_2))"
   ]
  },
  {
   "cell_type": "markdown",
   "metadata": {
    "colab_type": "text",
    "id": "S81DLQzcTUDg"
   },
   "source": [
    "# Training"
   ]
  },
  {
   "cell_type": "code",
   "execution_count": 0,
   "metadata": {
    "colab": {},
    "colab_type": "code",
    "id": "3ILKkUzBf7r3"
   },
   "outputs": [],
   "source": [
    "# This function is used to debug autograd\n",
    "def print_hist(tensor,depth=10):\n",
    "    grad = tensor.grad_fn\n",
    "    print(\"Historique du gradient:\\n\",grad.name())\n",
    "    grad = grad.next_functions[0][0]\n",
    "    i = 0\n",
    "    while grad is not None and i < depth:\n",
    "        print(grad.name())\n",
    "        grad = grad.next_functions[0][0]\n"
   ]
  },
  {
   "cell_type": "code",
   "execution_count": 0,
   "metadata": {
    "colab": {},
    "colab_type": "code",
    "id": "tmOKUFUKBfqY"
   },
   "outputs": [],
   "source": [
    "criterion = torch.nn.MSELoss()\n",
    "losses=[]\n",
    "it = 0"
   ]
  },
  {
   "cell_type": "code",
   "execution_count": 0,
   "metadata": {
    "colab": {
     "base_uri": "https://localhost:8080/",
     "height": 398
    },
    "colab_type": "code",
    "collapsed": true,
    "id": "-NP0KQs5TzSV",
    "outputId": "40b783c5-b922-41cf-a014-339c26dc92c0"
   },
   "outputs": [
    {
     "ename": "KeyboardInterrupt",
     "evalue": "ignored",
     "output_type": "error",
     "traceback": [
      "\u001b[0;31m---------------------------------------------------------------------------\u001b[0m",
      "\u001b[0;31mKeyboardInterrupt\u001b[0m                         Traceback (most recent call last)",
      "\u001b[0;32m<ipython-input-30-9cf558962f40>\u001b[0m in \u001b[0;36m<module>\u001b[0;34m()\u001b[0m\n\u001b[1;32m     24\u001b[0m         \u001b[0moutput_y_cpu\u001b[0m \u001b[0;34m=\u001b[0m \u001b[0moutput_y\u001b[0m\u001b[0;34m.\u001b[0m\u001b[0mto\u001b[0m\u001b[0;34m(\u001b[0m\u001b[0;34m\"cpu\"\u001b[0m\u001b[0;34m)\u001b[0m\u001b[0;34m\u001b[0m\u001b[0;34m\u001b[0m\u001b[0m\n\u001b[1;32m     25\u001b[0m \u001b[0;34m\u001b[0m\u001b[0m\n\u001b[0;32m---> 26\u001b[0;31m       \u001b[0mg\u001b[0m\u001b[0;34m,\u001b[0m\u001b[0medge_weights\u001b[0m \u001b[0;34m=\u001b[0m \u001b[0mget_graph_from_image\u001b[0m\u001b[0;34m(\u001b[0m\u001b[0moutput_x_cpu\u001b[0m\u001b[0;34m,\u001b[0m \u001b[0moutput_y_cpu\u001b[0m\u001b[0;34m)\u001b[0m\u001b[0;34m\u001b[0m\u001b[0;34m\u001b[0m\u001b[0m\n\u001b[0m\u001b[1;32m     27\u001b[0m       \u001b[0mpairs_inter\u001b[0m\u001b[0;34m,\u001b[0m \u001b[0mpairs_intra\u001b[0m \u001b[0;34m=\u001b[0m \u001b[0mget_random_pairs\u001b[0m\u001b[0;34m(\u001b[0m\u001b[0mgt_patches\u001b[0m\u001b[0;34m[\u001b[0m\u001b[0mj\u001b[0m\u001b[0;34m]\u001b[0m\u001b[0;34m,\u001b[0m\u001b[0mN_PAIRS\u001b[0m\u001b[0;34m)\u001b[0m\u001b[0;34m\u001b[0m\u001b[0;34m\u001b[0m\u001b[0m\n\u001b[1;32m     28\u001b[0m       \u001b[0mpairs\u001b[0m  \u001b[0;34m=\u001b[0m \u001b[0mnp\u001b[0m\u001b[0;34m.\u001b[0m\u001b[0mconcatenate\u001b[0m\u001b[0;34m(\u001b[0m\u001b[0;34m(\u001b[0m\u001b[0mpairs_inter\u001b[0m\u001b[0;34m,\u001b[0m\u001b[0mpairs_intra\u001b[0m\u001b[0;34m)\u001b[0m\u001b[0;34m)\u001b[0m\u001b[0;34m\u001b[0m\u001b[0;34m\u001b[0m\u001b[0m\n",
      "\u001b[0;32m<ipython-input-21-f34a8cb6f8bc>\u001b[0m in \u001b[0;36mget_graph_from_image\u001b[0;34m(edge_values_x, edge_values_y, plot)\u001b[0m\n\u001b[1;32m     23\u001b[0m   \u001b[0;31m# Computing weights\u001b[0m\u001b[0;34m\u001b[0m\u001b[0;34m\u001b[0m\u001b[0;34m\u001b[0m\u001b[0m\n\u001b[1;32m     24\u001b[0m \u001b[0;34m\u001b[0m\u001b[0m\n\u001b[0;32m---> 25\u001b[0;31m   \u001b[0medge_w\u001b[0m \u001b[0;34m=\u001b[0m \u001b[0mhg\u001b[0m\u001b[0;34m.\u001b[0m\u001b[0mweight_graph_function\u001b[0m\u001b[0;34m(\u001b[0m\u001b[0mg\u001b[0m\u001b[0;34m,\u001b[0m\u001b[0mweight_fn\u001b[0m\u001b[0;34m)\u001b[0m\u001b[0;34m\u001b[0m\u001b[0;34m\u001b[0m\u001b[0m\n\u001b[0m\u001b[1;32m     26\u001b[0m   \u001b[0;32mif\u001b[0m \u001b[0mplot\u001b[0m \u001b[0;34m:\u001b[0m\u001b[0;34m\u001b[0m\u001b[0;34m\u001b[0m\u001b[0m\n\u001b[1;32m     27\u001b[0m     \u001b[0mplt\u001b[0m\u001b[0;34m.\u001b[0m\u001b[0mimshow\u001b[0m\u001b[0;34m(\u001b[0m\u001b[0mhg\u001b[0m\u001b[0;34m.\u001b[0m\u001b[0mgraph_4_adjacency_2_khalimsky\u001b[0m\u001b[0;34m(\u001b[0m\u001b[0mg\u001b[0m\u001b[0;34m,\u001b[0m \u001b[0;36m1\u001b[0m\u001b[0;34m-\u001b[0m\u001b[0medge_w\u001b[0m\u001b[0;34m.\u001b[0m\u001b[0mdetach\u001b[0m\u001b[0;34m(\u001b[0m\u001b[0;34m)\u001b[0m\u001b[0;34m.\u001b[0m\u001b[0mnumpy\u001b[0m\u001b[0;34m(\u001b[0m\u001b[0;34m)\u001b[0m\u001b[0;34m)\u001b[0m\u001b[0;34m,\u001b[0m\u001b[0mcmap\u001b[0m\u001b[0;34m=\u001b[0m\u001b[0;34m\"gray\"\u001b[0m\u001b[0;34m)\u001b[0m\u001b[0;34m\u001b[0m\u001b[0;34m\u001b[0m\u001b[0m\n",
      "\u001b[0;32m/usr/local/lib/python3.6/dist-packages/higra/algo/graph_weights.py\u001b[0m in \u001b[0;36mweight_graph_function\u001b[0;34m(graph, weight_function)\u001b[0m\n\u001b[1;32m     42\u001b[0m     \"\"\"\n\u001b[1;32m     43\u001b[0m \u001b[0;34m\u001b[0m\u001b[0m\n\u001b[0;32m---> 44\u001b[0;31m     \u001b[0medge_weights\u001b[0m \u001b[0;34m=\u001b[0m \u001b[0mhg\u001b[0m\u001b[0;34m.\u001b[0m\u001b[0mcpp\u001b[0m\u001b[0;34m.\u001b[0m\u001b[0m_weight_graph\u001b[0m\u001b[0;34m(\u001b[0m\u001b[0mgraph\u001b[0m\u001b[0;34m,\u001b[0m \u001b[0mweight_function\u001b[0m\u001b[0;34m)\u001b[0m\u001b[0;34m\u001b[0m\u001b[0;34m\u001b[0m\u001b[0m\n\u001b[0m\u001b[1;32m     45\u001b[0m \u001b[0;34m\u001b[0m\u001b[0m\n\u001b[1;32m     46\u001b[0m     \u001b[0;32mreturn\u001b[0m \u001b[0medge_weights\u001b[0m\u001b[0;34m\u001b[0m\u001b[0;34m\u001b[0m\u001b[0m\n",
      "\u001b[0;32m<ipython-input-21-f34a8cb6f8bc>\u001b[0m in \u001b[0;36mweight_fn\u001b[0;34m(i, j)\u001b[0m\n\u001b[1;32m     13\u001b[0m   \u001b[0;31m#weighting function\u001b[0m\u001b[0;34m\u001b[0m\u001b[0;34m\u001b[0m\u001b[0;34m\u001b[0m\u001b[0m\n\u001b[1;32m     14\u001b[0m   \u001b[0;32mdef\u001b[0m \u001b[0mweight_fn\u001b[0m\u001b[0;34m(\u001b[0m\u001b[0mi\u001b[0m\u001b[0;34m,\u001b[0m \u001b[0mj\u001b[0m\u001b[0;34m)\u001b[0m\u001b[0;34m:\u001b[0m\u001b[0;34m\u001b[0m\u001b[0;34m\u001b[0m\u001b[0m\n\u001b[0;32m---> 15\u001b[0;31m     \u001b[0mim\u001b[0m \u001b[0;34m=\u001b[0m \u001b[0mmin\u001b[0m\u001b[0;34m(\u001b[0m\u001b[0mi\u001b[0m\u001b[0;34m,\u001b[0m\u001b[0mj\u001b[0m\u001b[0;34m)\u001b[0m\u001b[0;34m\u001b[0m\u001b[0;34m\u001b[0m\u001b[0m\n\u001b[0m\u001b[1;32m     16\u001b[0m     \u001b[0mjm\u001b[0m \u001b[0;34m=\u001b[0m \u001b[0mmax\u001b[0m\u001b[0;34m(\u001b[0m\u001b[0mi\u001b[0m\u001b[0;34m,\u001b[0m\u001b[0mj\u001b[0m\u001b[0;34m)\u001b[0m\u001b[0;34m\u001b[0m\u001b[0;34m\u001b[0m\u001b[0m\n\u001b[1;32m     17\u001b[0m     \u001b[0;32mif\u001b[0m \u001b[0mjm\u001b[0m\u001b[0;34m-\u001b[0m\u001b[0mim\u001b[0m \u001b[0;34m==\u001b[0m \u001b[0mimage_size\u001b[0m\u001b[0;34m[\u001b[0m\u001b[0;36m0\u001b[0m\u001b[0;34m]\u001b[0m\u001b[0;34m:\u001b[0m\u001b[0;34m\u001b[0m\u001b[0;34m\u001b[0m\u001b[0m\n",
      "\u001b[0;31mKeyboardInterrupt\u001b[0m: "
     ]
    }
   ],
   "source": [
    "\n",
    "start=time.time()\n",
    "for epoch in range(EPOCHS): \n",
    "  #For each image in the dataset\n",
    "  for i,image in enumerate(dataloader):\n",
    "    gt_patches = get_patches_from_image(image[\"segmentation\"][0],image[\"segmentation\"][0],PATCH_SIZE)\n",
    "    for j,patch in enumerate(get_patches_from_image(image[\"image\"][0],image[\"segmentation\"][0],PATCH_SIZE)):\n",
    "      net.zero_grad()\n",
    "\n",
    "      #Creating a batch of one for our input\n",
    "      input_im = torch.stack([patch])\n",
    "      input_im = input_im.to(device,dtype=torch.float)\n",
    "\n",
    "\n",
    "      #Making predictioms\n",
    "      output = net(input_im)\n",
    "      output_x = output[0,0,:,:]\n",
    "      output_y = output[0,1,:,:]\n",
    "\n",
    "      # Retrieving the maximin edge using Higra\n",
    "      #TODO : modify this part since it is not currently working if we use the cpu\n",
    "      if device.type == \"cuda\" :\n",
    "        output_x_cpu = output_x.to(\"cpu\")\n",
    "        output_y_cpu = output_y.to(\"cpu\")\n",
    "\n",
    "      g,edge_weights = get_graph_from_image(output_x_cpu, output_y_cpu)\n",
    "      pairs_inter, pairs_intra = get_random_pairs(gt_patches[j],N_PAIRS)\n",
    "      pairs  = np.concatenate((pairs_inter,pairs_intra))\n",
    "    \n",
    "      mm_edges = get_maximin_edge(g,edge_weights,pairs)\n",
    "\n",
    "      #Find the maximin edges in our outputs\n",
    "      ims = np.amin(mm_edges,axis=1)\n",
    "      jms = np.amax(mm_edges,axis=1)\n",
    "      mm_values = torch.stack([output_y.flatten()[jm] if jm-im == PATCH_SIZE else output_x.flatten()[im] for im,jm in zip(ims,jms)])\n",
    "      #Computing the loss fucntion\n",
    "      \n",
    "      truth = indicator_fn(gt_patches[j],pairs)\n",
    "      loss = criterion(mm_values,truth)\n",
    "      #loss = criterion(gt_patches[j],mm_values,pairs,0)\n",
    "      losses.append(loss.clone().detach().cpu().numpy())\n",
    "      \"\"\"\n",
    "      #Debug autograd by printing history of a variable\n",
    "      hist = mm_values[0]\n",
    "      print(hist)\n",
    "      print_hist(hist)\n",
    "      print(\"=======================\")\n",
    "      \"\"\"\n",
    "      # Updating weights\n",
    "      loss.backward()\n",
    "      optimizer.step()\n",
    "      it +=1\n",
    "      if it % 1000 == 0:\n",
    "        print(it,\"th iteration, avg loss: \", np.mean(losses[it-1000:it-1]), \"time taken: \",time.time()-start,\"seconds\" )\n",
    "        start= time.time()\n",
    "\n"
   ]
  },
  {
   "cell_type": "code",
   "execution_count": 0,
   "metadata": {
    "colab": {},
    "colab_type": "code",
    "id": "kupCXtmilLbY"
   },
   "outputs": [],
   "source": [
    "torch.save(net.state_dict(), \"./model_bn.pt\")\n",
    "np.save(\"loss_bn.npy\", np.array(losses))"
   ]
  },
  {
   "cell_type": "code",
   "execution_count": 0,
   "metadata": {
    "colab": {
     "base_uri": "https://localhost:8080/",
     "height": 592
    },
    "colab_type": "code",
    "id": "7-HgwDQebRmD",
    "outputId": "af28618e-913c-48a4-febf-1319e9c443af"
   },
   "outputs": [
    {
     "data": {
      "image/png": "[encoded data removed]",
      "text/plain": [
       "<Figure size 1440x720 with 1 Axes>"
      ]
     },
     "metadata": {
      "tags": []
     },
     "output_type": "display_data"
    }
   ],
   "source": [
    "samples =500 \n",
    "loss_sampled = []\n",
    "xs = []\n",
    "plt.figure(figsize=(20,10))\n",
    "for i in range(len(losses) // samples):\n",
    "    loss_sampled.append(np.mean(losses[i*samples:(i+1)*samples]))\n",
    "    xs.append(i*samples + samples/2)\n",
    "\n",
    "plt.plot(xs, loss_sampled, \"r-\")\n",
    "\n",
    "plt.xlim([0, xs[-1] + xs[-1]*0.1])\n",
    "plt.ylim([0, np.max(loss_sampled)])\n",
    "\n",
    "plt.show()"
   ]
  },
  {
   "cell_type": "markdown",
   "metadata": {
    "colab_type": "text",
    "id": "tupf3aExV_aQ"
   },
   "source": [
    "# Tests"
   ]
  },
  {
   "cell_type": "code",
   "execution_count": 0,
   "metadata": {
    "colab": {},
    "colab_type": "code",
    "id": "T8yQLnFt671-"
   },
   "outputs": [],
   "source": [
    "gt_patches = get_patches_from_image(dataset[0][\"segmentation\"],dataset[0][\"segmentation\"],PATCH_SIZE)\n",
    "im_patches = get_patches_from_image(dataset[0][\"image\"],dataset[0][\"segmentation\"],PATCH_SIZE)"
   ]
  },
  {
   "cell_type": "code",
   "execution_count": 0,
   "metadata": {
    "colab": {
     "base_uri": "https://localhost:8080/",
     "height": 283
    },
    "colab_type": "code",
    "id": "kDRmnRxIT6YW",
    "outputId": "46139964-48a8-48f8-e133-4abb6df87af9"
   },
   "outputs": [
    {
     "data": {
      "text/plain": [
       "<matplotlib.image.AxesImage at 0x7f751a14d400>"
      ]
     },
     "execution_count": 39,
     "metadata": {
      "tags": []
     },
     "output_type": "execute_result"
    },
    {
     "data": {
      "image/png": "[encoded data removed]",
      "text/plain": [
       "<Figure size 432x288 with 1 Axes>"
      ]
     },
     "metadata": {
      "tags": []
     },
     "output_type": "display_data"
    }
   ],
   "source": [
    "plt.imshow(gt_patches[19])"
   ]
  },
  {
   "cell_type": "code",
   "execution_count": 0,
   "metadata": {
    "colab": {
     "base_uri": "https://localhost:8080/",
     "height": 283
    },
    "colab_type": "code",
    "id": "43vVqwq7UDgl",
    "outputId": "07926761-41c5-43b5-f620-c5324e108667"
   },
   "outputs": [
    {
     "data": {
      "text/plain": [
       "<matplotlib.image.AxesImage at 0x7f751a131128>"
      ]
     },
     "execution_count": 40,
     "metadata": {
      "tags": []
     },
     "output_type": "execute_result"
    },
    {
     "data": {
      "image/png": "[encoded data removed]",
      "text/plain": [
       "<Figure size 432x288 with 1 Axes>"
      ]
     },
     "metadata": {
      "tags": []
     },
     "output_type": "display_data"
    }
   ],
   "source": [
    "plt.imshow(im_patches[19][0],cmap=\"gray\")"
   ]
  },
  {
   "cell_type": "code",
   "execution_count": 0,
   "metadata": {
    "colab": {},
    "colab_type": "code",
    "id": "-C6uvDMfUXy9"
   },
   "outputs": [],
   "source": [
    "input_im = torch.tensor(im_patches[19])\n",
    "input_im = torch.stack([input_im])\n",
    "input_im = input_im.to(device,dtype=torch.float)\n",
    "pred = net(input_im)"
   ]
  },
  {
   "cell_type": "code",
   "execution_count": 0,
   "metadata": {
    "colab": {
     "base_uri": "https://localhost:8080/",
     "height": 283
    },
    "colab_type": "code",
    "id": "dF0IdnwIUk8F",
    "outputId": "c85066a8-4248-4833-9fe1-d371ae148dc7"
   },
   "outputs": [
    {
     "data": {
      "text/plain": [
       "<matplotlib.image.AxesImage at 0x7f751d018eb8>"
      ]
     },
     "execution_count": 37,
     "metadata": {
      "tags": []
     },
     "output_type": "execute_result"
    },
    {
     "data": {
      "image/png": "[encoded data removed]",
      "text/plain": [
       "<Figure size 432x288 with 1 Axes>"
      ]
     },
     "metadata": {
      "tags": []
     },
     "output_type": "display_data"
    }
   ],
   "source": [
    "plt.imshow(pred[0][0].cpu().detach().numpy())"
   ]
  },
  {
   "cell_type": "code",
   "execution_count": 0,
   "metadata": {
    "colab": {
     "base_uri": "https://localhost:8080/",
     "height": 283
    },
    "colab_type": "code",
    "id": "q6dODHasWeEj",
    "outputId": "55d37fc9-4030-4bf2-b814-f467414828d1"
   },
   "outputs": [
    {
     "data": {
      "text/plain": [
       "<matplotlib.image.AxesImage at 0x7f751cffaac8>"
      ]
     },
     "execution_count": 38,
     "metadata": {
      "tags": []
     },
     "output_type": "execute_result"
    },
    {
     "data": {
      "image/png": "[encoded data removed]",
      "text/plain": [
       "<Figure size 432x288 with 1 Axes>"
      ]
     },
     "metadata": {
      "tags": []
     },
     "output_type": "display_data"
    }
   ],
   "source": [
    "plt.imshow(pred[0][1].cpu().detach().numpy())"
   ]
  },
  {
   "cell_type": "code",
   "execution_count": 0,
   "metadata": {
    "colab": {},
    "colab_type": "code",
    "id": "8rcZg0FDWX_w"
   },
   "outputs": [],
   "source": []
  }
 ],
 "metadata": {
  "accelerator": "GPU",
  "colab": {
   "collapsed_sections": [],
   "name": "MALIS_training_bigger.ipynb",
   "provenance": []
  },
  "kernelspec": {
   "display_name": "Python 3",
   "language": "python",
   "name": "python3"
  },
  "language_info": {
   "codemirror_mode": {
    "name": "ipython",
    "version": 3
   },
   "file_extension": ".py",
   "mimetype": "text/x-python",
   "name": "python",
   "nbconvert_exporter": "python",
   "pygments_lexer": "ipython3",
   "version": "3.7.1"
  }
 },
 "nbformat": 4,
 "nbformat_minor": 1
}
